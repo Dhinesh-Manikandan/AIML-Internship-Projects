{
 "cells": [
  {
   "cell_type": "code",
   "execution_count": null,
   "id": "7254e921-c807-4460-b4c2-7707b7e2aa8f",
   "metadata": {},
   "outputs": [],
   "source": [
    "import cv2\n",
    "import numpy as np\n",
    "import mediapipe as mp\n",
    "\n",
    "mp_holistic = mp.solutions.holistic\n",
    "\n",
    "def extract_landmarks(image_path):\n",
    "    image = cv2.imread(image_path)\n",
    "    image = cv2.cvtColor(image, cv2.COLOR_BGR2RGB)\n",
    "    \n",
    "    with mp_holistic.Holistic(static_image_mode=True, min_detection_confidence=0.5) as holistic:\n",
    "        results = holistic.process(image)\n",
    "        \n",
    "    return {\n",
    "        'left_hand': np.array([[lm.x, lm.y, lm.z] for lm in results.left_hand_landmarks.landmark]).flatten() \n",
    "                     if results.left_hand_landmarks else np.zeros(21*3),\n",
    "        'right_hand': np.array([[lm.x, lm.y, lm.z] for lm in results.right_hand_landmarks.landmark]).flatten() \n",
    "                      if results.right_hand_landmarks else np.zeros(21*3),\n",
    "        'pose': np.array([[lm.x, lm.y, lm.z] for lm in results.pose_landmarks.landmark]).flatten() \n",
    "                if results.pose_landmarks else np.zeros(33*3)\n",
    "    }\n"
   ]
  }
 ],
 "metadata": {
  "kernelspec": {
   "display_name": "Python 3 (ipykernel)",
   "language": "python",
   "name": "python3"
  },
  "language_info": {
   "codemirror_mode": {
    "name": "ipython",
    "version": 3
   },
   "file_extension": ".py",
   "mimetype": "text/x-python",
   "name": "python",
   "nbconvert_exporter": "python",
   "pygments_lexer": "ipython3",
   "version": "3.12.4"
  }
 },
 "nbformat": 4,
 "nbformat_minor": 5
}
