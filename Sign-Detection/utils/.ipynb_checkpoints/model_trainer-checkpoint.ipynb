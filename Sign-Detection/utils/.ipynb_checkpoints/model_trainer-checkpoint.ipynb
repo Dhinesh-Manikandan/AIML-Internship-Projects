{
 "cells": [
  {
   "cell_type": "code",
   "execution_count": null,
   "id": "2a7a0474-84b3-4090-aa85-7acb96c271d5",
   "metadata": {},
   "outputs": [],
   "source": [
    "from tensorflow.keras.models import Sequential\n",
    "from tensorflow.keras.layers import LSTM, Dense\n",
    "from tensorflow.keras.callbacks import EarlyStopping\n",
    "import os\n",
    "\n",
    "def build_and_train_model(X_train, y_train, X_test, y_test):\n",
    "    num_classes = len(set(y_train))\n",
    "\n",
    "    model = Sequential()\n",
    "    model.add(LSTM(64, return_sequences=False, input_shape=(1, X_train.shape[2])))\n",
    "    model.add(Dense(64, activation='relu'))\n",
    "    model.add(Dense(num_classes, activation='softmax'))\n",
    "\n",
    "    model.compile(optimizer='adam', loss='sparse_categorical_crossentropy', metrics=['accuracy'])\n",
    "\n",
    "    es = EarlyStopping(monitor='val_loss', patience=3, restore_best_weights=True)\n",
    "    model.fit(X_train, y_train, validation_data=(X_test, y_test), epochs=20, callbacks=[es])\n",
    "\n",
    "    # Save model\n",
    "    model_path = \"asl_model.h5\"\n",
    "    model.save(model_path)\n",
    "    return model_path\n"
   ]
  }
 ],
 "metadata": {
  "kernelspec": {
   "display_name": "Python 3 (ipykernel)",
   "language": "python",
   "name": "python3"
  },
  "language_info": {
   "codemirror_mode": {
    "name": "ipython",
    "version": 3
   },
   "file_extension": ".py",
   "mimetype": "text/x-python",
   "name": "python",
   "nbconvert_exporter": "python",
   "pygments_lexer": "ipython3",
   "version": "3.12.4"
  }
 },
 "nbformat": 4,
 "nbformat_minor": 5
}
