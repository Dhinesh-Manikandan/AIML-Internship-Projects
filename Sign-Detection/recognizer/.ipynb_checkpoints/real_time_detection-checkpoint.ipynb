{
 "cells": [
  {
   "cell_type": "code",
   "execution_count": null,
   "id": "112e6d34-57c7-46d7-8c32-ccaa56790065",
   "metadata": {},
   "outputs": [],
   "source": [
    "import cv2\n",
    "import numpy as np\n",
    "import mediapipe as mp\n",
    "from tensorflow.keras.models import load_model\n",
    "from gtts import gTTS\n",
    "import pygame\n",
    "\n",
    "def run_realtime_recognition(model_path):\n",
    "    mp_hands = mp.solutions.hands\n",
    "    model = load_model(model_path)\n",
    "    labels = np.load(\"labels.npy\")\n",
    "\n",
    "    pygame.init()\n",
    "    pygame.mixer.init()\n",
    "\n",
    "    sequence = []\n",
    "\n",
    "    cap = cv2.VideoCapture(0)\n",
    "    with mp_hands.Hands(max_num_hands=1) as hands:\n",
    "        while cap.isOpened():\n",
    "            ret, frame = cap.read()\n",
    "            if not ret:\n",
    "                break\n",
    "\n",
    "            image = cv2.cvtColor(frame, cv2.COLOR_BGR2RGB)\n",
    "            results = hands.process(image)\n",
    "\n",
    "            if results.multi_hand_landmarks:\n",
    "                hand_landmarks = results.multi_hand_landmarks[0]\n",
    "                keypoints = []\n",
    "                for lm in hand_landmarks.landmark:\n",
    "                    keypoints.extend([lm.x, lm.y, lm.z])\n",
    "                sequence.append(keypoints)\n",
    "\n",
    "                if len(sequence) == 30:\n",
    "                    input_data = np.expand_dims(sequence, axis=0)\n",
    "                    prediction = model.predict(input_data)\n",
    "                    class_id = np.argmax(prediction)\n",
    "                    sentence = labels[class_id]\n",
    "                    print(\"Detected:\", sentence)\n",
    "\n",
    "                    tts = gTTS(text=sentence, lang='en')\n",
    "                    tts.save(\"output.mp3\")\n",
    "                    pygame.mixer.music.load(\"output.mp3\")\n",
    "                    pygame.mixer.music.play()\n",
    "\n",
    "                    sequence = []\n",
    "\n",
    "            cv2.imshow(\"ASL Detection\", frame)\n",
    "            if cv2.waitKey(10) & 0xFF == ord('q'):\n",
    "                break\n",
    "        cap.release()\n",
    "        cv2.destroyAllWindows()\n"
   ]
  }
 ],
 "metadata": {
  "kernelspec": {
   "display_name": "Python 3 (ipykernel)",
   "language": "python",
   "name": "python3"
  },
  "language_info": {
   "codemirror_mode": {
    "name": "ipython",
    "version": 3
   },
   "file_extension": ".py",
   "mimetype": "text/x-python",
   "name": "python",
   "nbconvert_exporter": "python",
   "pygments_lexer": "ipython3",
   "version": "3.12.4"
  }
 },
 "nbformat": 4,
 "nbformat_minor": 5
}
